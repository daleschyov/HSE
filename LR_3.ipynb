{
 "cells": [
  {
   "cell_type": "markdown",
   "metadata": {},
   "source": [
    "# Вариант 13. Задания 3.1.13, 3.5.4, 3.8.3"
   ]
  },
  {
   "cell_type": "markdown",
   "metadata": {},
   "source": [
    "## 3.1.13\n",
    "1. Используя встроенную функцию lu(A) пакета MATHCAD (либо scipy.linalg.lu_factor), получить\n",
    "LU- разложение матрицы A.\n",
    "2. Преобразовать вектор b по формулам прямого хода метода Гаусса. С помощью обратной подстановки\n",
    "найти решение системы x.\n",
    "УКАЗАНИЕ. Функция lu(A) возвращает матрицу, в которой содержатся матрицы P, L и U такие, что PA=LU\n",
    "(P- матрица перестановок).\n",
    "3. n = 5, a_ij = $ 1/(1+c)^3$"
   ]
  },
  {
   "cell_type": "code",
   "execution_count": 319,
   "metadata": {},
   "outputs": [],
   "source": [
    "import numpy as np\n",
    "import matplotlib.pyplot as plt\n",
    "%matplotlib inline"
   ]
  },
  {
   "cell_type": "code",
   "execution_count": 320,
   "metadata": {},
   "outputs": [],
   "source": [
    "N = 13\n",
    "n = 5\n",
    "C = np.ones((n,n))\n",
    "A = np.ones((n,n))\n",
    "b = N * np.ones(n)\n",
    "for i in range(n):\n",
    "    for j in range(n):\n",
    "        C[i][j] = 0.1 * N * (i+1) * (j+1)\n",
    "        A[i][j] = 1/(1+C[i][j])**3"
   ]
  },
  {
   "cell_type": "code",
   "execution_count": 321,
   "metadata": {},
   "outputs": [],
   "source": [
    "x = np.linalg.solve(A,b)"
   ]
  },
  {
   "cell_type": "code",
   "execution_count": 322,
   "metadata": {},
   "outputs": [],
   "source": [
    "cond_num = np.linalg.cond(A)"
   ]
  },
  {
   "cell_type": "code",
   "execution_count": 323,
   "metadata": {},
   "outputs": [
    {
     "name": "stdout",
     "output_type": "stream",
     "text": [
      "1. 8001769.988508721 0.05166954017572322 True\n",
      "2. 800176.998850872 0.005166954017573171 True\n",
      "3. 80017.6998850872 0.0005166954017579812 True\n",
      "4. 8001.76998850872 5.1669540175736345e-05 True\n",
      "5. 800.1769988508721 5.166954017341983e-06 True\n",
      "6. 80.0176998850872 5.16695402290162e-07 True\n",
      "7. 8.00176998850872 5.166954087764064e-08 True\n",
      "8. 0.8001769988508721 5.166954551067227e-09 True\n",
      "9. 0.08001769988508721 5.166956095411104e-10 True\n",
      "10. 0.008001769988508722 5.1670348569488333e-11 True\n",
      "11. 0.000800176998850872 5.167374612601784e-12 True\n",
      "12. 8.00176998850872e-05 5.176640675864071e-13 True\n",
      "13. 8.00176998850872e-06 5.1272216717985423e-14 True\n",
      "14. 8.001769988508721e-07 5.714072345076689e-15 True\n"
     ]
    }
   ],
   "source": [
    "d = np.zeros(n)\n",
    "for it in range(1,15):\n",
    "    delta = 10**(-it)\n",
    "    #print(delta)\n",
    "    for i in range(n):\n",
    "        b_i = np.copy(b)\n",
    "        b_i[i] += delta\n",
    "        x_i = np.linalg.solve(A,b_i)\n",
    "        d[i] = np.max(np.abs(x - x_i))/np.max(np.abs(x))\n",
    "    ind = np.argmax(d)\n",
    "    delta_x_m = cond_num * delta / b[ind]\n",
    "    print(str(it) + '.', delta_x_m, d[ind],delta_x_m > d[ind] )"
   ]
  },
  {
   "cell_type": "markdown",
   "metadata": {},
   "source": [
    "### Число обусловленности показывает, насколько чувствительна функция к изменениям или ошибкам на входе, и на сколько ошибка на выходе является результатом ошибки на входе. Как правило, если число обусловленности $ \\mu (f)=10^k $, то вы можете потерять до k цифр точности сверх того, что будет потеряно для числового значения из-за потери точности из арифметических методов.\n",
    "### Каждый раз получаем, что практическая погрешность d_m < теоретической погрешности δ(x_m), что соответствует формуле. Т.е. всё нормально. Разберёмся, почему раздичия в d_m и  δ(x_m) настолько большие ( не меньше 8 порядков)\n",
    "### Поскольку теоретическая ошибка является грубой и учитывает самые плохие ситуации, практическая погрешность может быть значительно меньше, что у нас и получилось. Думаю, что столь большая разница связана с огромным значением числа обусловленности cond_num = 1040230098"
   ]
  },
  {
   "cell_type": "markdown",
   "metadata": {},
   "source": [
    "## Задача 3.5.4\n",
    "Дана система уравнений Ax=b порядка n с симметричной положительно определенной матрицей\n",
    "A. Решить систему методом Холецкого.\n",
    " ПОРЯДОК РЕШЕНИЯ ЗАДАЧИ:\n",
    "1. Используя встроенную функцию cholesky(A) пакета MATHCAD (либо numpy.linalg.cholesky),\n",
    "получить $LL^T$ - разложение матрицы A.\n",
    "2. Решить последовательно системы Ly=b и $L^T$x = y с треугольными матрицами.\n",
    "УКАЗАНИЕ. Функция cholesky(A) возвращает нижнетреугольную матрицу L.\n",
    "\n",
    "$b_i = m*n - i^3$"
   ]
  },
  {
   "cell_type": "code",
   "execution_count": 324,
   "metadata": {},
   "outputs": [],
   "source": [
    "n = 50\n",
    "m = 15\n",
    "A = np.zeros((n,n))\n",
    "b = np.zeros(n)\n",
    "for i in range(1,n+1):\n",
    "    for j in range(1,n+1):\n",
    "        if i != j:\n",
    "            A[i-1][j-1] = (i + j) / (m + n)\n",
    "        else: A[i-1][j-1] = n + m**2 + j/m + i/n\n",
    "    b[i-1] = m*n - i**3"
   ]
  },
  {
   "cell_type": "code",
   "execution_count": 325,
   "metadata": {},
   "outputs": [
    {
     "data": {
      "text/plain": [
       "True"
      ]
     },
     "execution_count": 325,
     "metadata": {},
     "output_type": "execute_result"
    }
   ],
   "source": [
    "L = np.linalg.cholesky(A)\n",
    "y = np.linalg.solve(L,b)\n",
    "x = np.linalg.solve(np.transpose(L),y)\n",
    "np.allclose(np.dot(A,x),b)"
   ]
  },
  {
   "cell_type": "markdown",
   "metadata": {},
   "source": [
    "### Полученные х прошли проверку np.allclose, что говорит о том, что мы верно решили систему"
   ]
  },
  {
   "cell_type": "markdown",
   "metadata": {},
   "source": [
    "## Задача 3.8.3\n",
    "Дана система уравнений Az(x)=b(x) порядка n. Построить график функции $ y(x) = \\sum_{i=1}^{n} z_i(x)$\n",
    "на отрезке [a, b]; здесь $z(x) = (z_1(x),z_2(x),...,z_n(x))^T$ - решение системы. Для решения системы\n",
    "уравнений использовать метод Гаусса (схема полного выбора)."
   ]
  },
  {
   "cell_type": "code",
   "execution_count": 326,
   "metadata": {},
   "outputs": [],
   "source": [
    "M = 3\n",
    "q_M = 1.001 - 2 * M * 10**(-3)\n",
    "n = 30\n",
    "A = np.zeros((n,n))\n",
    "for i in range(1,n+1):\n",
    "    for j in range(1,n+1):\n",
    "        if i != j:\n",
    "            A[i-1][j-1] = q_M**(i + j) + 0.1*(j - i)\n",
    "        else: (q_M - 1) ** (i+j)"
   ]
  },
  {
   "cell_type": "code",
   "execution_count": 327,
   "metadata": {},
   "outputs": [],
   "source": [
    "def b_i(x,i):\n",
    "    return x * np.exp(x/i)*np.cos(x/i)"
   ]
  },
  {
   "cell_type": "code",
   "execution_count": 328,
   "metadata": {},
   "outputs": [],
   "source": [
    "a = 5\n",
    "x_arr = np.linspace(-a,a,100)\n",
    "y = []\n",
    "for x in x_arr:\n",
    "    b = []\n",
    "    for i in range(1,n+1):\n",
    "        b.append(b_i(x,i))\n",
    "    z = np.linalg.solve(A,b)\n",
    "    y.append(np.sum(z))"
   ]
  },
  {
   "cell_type": "code",
   "execution_count": 329,
   "metadata": {},
   "outputs": [
    {
     "data": {
      "image/png": "[encoded data removed]",
      "text/plain": [
       "<Figure size 432x288 with 1 Axes>"
      ]
     },
     "metadata": {
      "needs_background": "light"
     },
     "output_type": "display_data"
    }
   ],
   "source": [
    "plt.plot(x_arr,y)\n",
    "plt.title('$ y(x) = \\sum_{i=1}^{n} z_i(x)$')\n",
    "plt.xlabel('x')\n",
    "plt.ylabel('y');"
   ]
  },
  {
   "cell_type": "code",
   "execution_count": null,
   "metadata": {},
   "outputs": [],
   "source": []
  }
 ],
 "metadata": {
  "kernelspec": {
   "display_name": "Python 3",
   "language": "python",
   "name": "python3"
  },
  "language_info": {
   "codemirror_mode": {
    "name": "ipython",
    "version": 3
   },
   "file_extension": ".py",
   "mimetype": "text/x-python",
   "name": "python",
   "nbconvert_exporter": "python",
   "pygments_lexer": "ipython3",
   "version": "3.7.1"
  }
 },
 "nbformat": 4,
 "nbformat_minor": 2
}
