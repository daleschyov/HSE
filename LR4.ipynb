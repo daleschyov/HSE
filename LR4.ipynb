{
 "cells": [
  {
   "cell_type": "markdown",
   "metadata": {},
   "source": [
    "# Вариант 13, задания 4.1.13, 4.2, 4.4.7, 4.8.3 "
   ]
  },
  {
   "cell_type": "markdown",
   "metadata": {},
   "source": [
    "## Задача 4.1.13\n",
    "### Дана система уравнений Ax=b. Найти решение системы с помощью метода Гаусса. Выполнить 10 итераций по методу Зейделя. Принимая решение, полученное с помощью метода Гаусса за точное, найти величину абсолютной погрешности итерационного решения. \n",
    "\n",
    "### Матрица А:\n",
    "\\begin{bmatrix}\n",
    "    2.97 & 0.4 & 0.3 & 1.98 & 0 & 0.1\\\\\n",
    "    0.99 & 4.9 & 0.4 & 2.97 & 0.2 & -0.3\\\\\n",
    "    0 & -1.8 & 6.6 & 3.3 & 0.6 & 0.8\\\\\n",
    "    4.95 & 1.6 & 1.2 & 8.91 & 0.8 & 0.3\\\\\n",
    "    1.98 & -1.5 & 0.4 & -1.98 & 6.1 & 0\\\\\n",
    "    9.9 & 1.4 & 2.4 & 5.94 & 3.2 & 23.3\\\\\n",
    "\\end{bmatrix}\n",
    "\n",
    "### Вектор b:\n",
    "\\begin{bmatrix}\n",
    "4.69\\\\\n",
    "12.18\\\\\n",
    "-3.64\\\\\n",
    "21.05\\\\\n",
    "0.42\\\\\n",
    "-13.91\\\\\n",
    "\\end{bmatrix}"
   ]
  },
  {
   "cell_type": "code",
   "execution_count": 1,
   "metadata": {},
   "outputs": [],
   "source": [
    "import numpy as np"
   ]
  },
  {
   "cell_type": "code",
   "execution_count": 3,
   "metadata": {},
   "outputs": [],
   "source": [
    "A = np.array([[2.97, 0.4, 0.3, 1.98, 0, 0.1],\n",
    "               [0.99, 4.9, 0.4, 2.97, 0.2, -0.3],\n",
    "               [0, -1.8, 6.6, 3.3, 0.6, 0.8],\n",
    "               [4.95, 1.6, 1.2, 8.91, 0.8, 0.3],\n",
    "               [1.98, -1.5, 0.4, -1.98, 6.1, 0],\n",
    "               [9.9, 1.4, 2.4, 5.94, 3.2, 23.3]\n",
    "               ])\n",
    "b = np.array([4.69, 12.18, -3.64 ,21.05, 0.42, -13.91])"
   ]
  },
  {
   "cell_type": "code",
   "execution_count": 4,
   "metadata": {},
   "outputs": [],
   "source": [
    "x_gauss = np.linalg.solve(A,b)"
   ]
  },
  {
   "cell_type": "code",
   "execution_count": 5,
   "metadata": {},
   "outputs": [],
   "source": [
    "D = np.zeros(A.shape)\n",
    "D_inverse = np.zeros(A.shape)\n",
    "for i in range(A.shape[0]):\n",
    "    D[i][i] = A[i][i]\n",
    "    D_inverse[i][i] = 1/A[i][i]\n",
    "B = np.dot(D_inverse,D - A)\n",
    "c = np.dot(D_inverse,b)"
   ]
  },
  {
   "cell_type": "markdown",
   "metadata": {},
   "source": [
    "### Проверим выполнение достаточного условия сходимости итерационных методов ||B||$_\\infty$ < 1"
   ]
  },
  {
   "cell_type": "code",
   "execution_count": 6,
   "metadata": {},
   "outputs": [
    {
     "data": {
      "text/plain": [
       "0.9932659932659934"
      ]
     },
     "execution_count": 6,
     "metadata": {},
     "output_type": "execute_result"
    }
   ],
   "source": [
    "B_norm = np.linalg.norm(B, ord = np.inf)\n",
    "B_norm"
   ]
  },
  {
   "cell_type": "markdown",
   "metadata": {},
   "source": [
    "### Реализуем метод Якоби и проверим его на нескольких примерах. "
   ]
  },
  {
   "cell_type": "code",
   "execution_count": 7,
   "metadata": {},
   "outputs": [],
   "source": [
    "def Yacobi(x_0, B, c, B_norm = B_norm, eps = 1e-6, it_num = None):\n",
    "    if B_norm > 0.5:\n",
    "        eps = (1 - B_norm)/B_norm * eps\n",
    "    counter = 0\n",
    "    x_curr = x_0\n",
    "    x_next = np.dot(B,x_curr) + c\n",
    "    while counter != it_num and np.max(np.abs(x_next - x_curr)) > eps:\n",
    "        x_curr = x_next\n",
    "        counter += 1\n",
    "        x_next = np.dot(B,x_curr) + c\n",
    "    if counter == it_num:\n",
    "        print(\"Max it num achieved\")\n",
    "    else: print(\"Target accuracy achieved in \", counter, \" steps\")\n",
    "    return x_next"
   ]
  },
  {
   "cell_type": "markdown",
   "metadata": {},
   "source": [
    "### Выполним 10 итераций методом Якоби для 2 разных начальных приближений и вычислим абсолютную погрешность."
   ]
  },
  {
   "cell_type": "code",
   "execution_count": 8,
   "metadata": {},
   "outputs": [
    {
     "name": "stdout",
     "output_type": "stream",
     "text": [
      "Max it num achieved\n"
     ]
    },
    {
     "data": {
      "text/plain": [
       "0.02942390087410196"
      ]
     },
     "execution_count": 8,
     "metadata": {},
     "output_type": "execute_result"
    }
   ],
   "source": [
    "x_0 = np.ones(A.shape[0])\n",
    "x_yacobi_1 = Yacobi(x_0, B, c, it_num=10)\n",
    "abs_err_1 = np.max(np.abs(x_yacobi_1 - x_gauss))\n",
    "abs_err_1"
   ]
  },
  {
   "cell_type": "code",
   "execution_count": 9,
   "metadata": {},
   "outputs": [
    {
     "name": "stdout",
     "output_type": "stream",
     "text": [
      "Max it num achieved\n"
     ]
    },
    {
     "data": {
      "text/plain": [
       "0.1222964748714748"
      ]
     },
     "execution_count": 9,
     "metadata": {},
     "output_type": "execute_result"
    }
   ],
   "source": [
    "x_0 = np.zeros(A.shape[0])\n",
    "x_yacobi_2 = Yacobi(x_0, B, c, it_num=10)\n",
    "abs_err_2 = np.max(np.abs(x_yacobi_2 - x_gauss))\n",
    "abs_err_2"
   ]
  },
  {
   "cell_type": "markdown",
   "metadata": {},
   "source": [
    "### Посмотрим, за сколько шагов необходимо методу Якоби с теми же начальными приближениями для достижения точности ε = $10^{-6}$"
   ]
  },
  {
   "cell_type": "code",
   "execution_count": 10,
   "metadata": {},
   "outputs": [
    {
     "name": "stdout",
     "output_type": "stream",
     "text": [
      "Target accuracy achieved in  92  steps\n",
      "Target accuracy achieved in  100  steps\n"
     ]
    }
   ],
   "source": [
    "x_0 = np.ones(A.shape[0])\n",
    "x_yacobi_1_2 = Yacobi(x_0, B, c)\n",
    "x_0 = np.zeros(A.shape[0])\n",
    "x_yacobi_2_2 = Yacobi(x_0, B, c)"
   ]
  },
  {
   "cell_type": "markdown",
   "metadata": {},
   "source": [
    "### Реализуем метод Зейделя"
   ]
  },
  {
   "cell_type": "code",
   "execution_count": 11,
   "metadata": {},
   "outputs": [],
   "source": [
    "from scipy.linalg import solve_triangular\n",
    "def Zeidel(A, b, x0, eps = 1e-6, it_num = None):\n",
    "    L = np.tril(A, k = -1)\n",
    "    D = np.diag(np.diag(A))\n",
    "    U = np.triu(A, k = 1)\n",
    "    L_D_inv = solve_triangular(L+D,np.eye(A.shape[0]), lower = True)\n",
    "    counter = 0\n",
    "    x_curr = x0\n",
    "    x_next = -np.dot(np.dot(L_D_inv,U),x_curr) + np.dot(L_D_inv,b)\n",
    "    while counter != it_num and np.max(np.abs(x_next - x_curr)) > eps:\n",
    "        x_curr = x_next\n",
    "        counter += 1\n",
    "        x_next = -np.dot(np.dot(L_D_inv,U),x_curr) + np.dot(L_D_inv,b)\n",
    "    if counter == it_num:\n",
    "        print(\"Max it num achieved\")\n",
    "    else: print(\"Target accuracy achieved in \", counter, \" steps\")\n",
    "    return x_next"
   ]
  },
  {
   "cell_type": "markdown",
   "metadata": {},
   "source": [
    "### Выполним 10 итераций методом Зейделя для 2 разных начальных приближений и вычислим абсолютную погрешность"
   ]
  },
  {
   "cell_type": "code",
   "execution_count": 12,
   "metadata": {},
   "outputs": [
    {
     "name": "stdout",
     "output_type": "stream",
     "text": [
      "Max it num achieved\n"
     ]
    },
    {
     "data": {
      "text/plain": [
       "1.6037669827717593e-06"
      ]
     },
     "execution_count": 12,
     "metadata": {},
     "output_type": "execute_result"
    }
   ],
   "source": [
    "x_0 = np.ones(A.shape[0])\n",
    "x_zeidel_1 = Zeidel(A, b, x_0, it_num=10)\n",
    "abs_err_1 = np.max(np.abs(x_zeidel_1 - x_gauss))\n",
    "abs_err_1"
   ]
  },
  {
   "cell_type": "code",
   "execution_count": 13,
   "metadata": {},
   "outputs": [
    {
     "name": "stdout",
     "output_type": "stream",
     "text": [
      "Max it num achieved\n"
     ]
    },
    {
     "data": {
      "text/plain": [
       "3.076950309877091e-06"
      ]
     },
     "execution_count": 13,
     "metadata": {},
     "output_type": "execute_result"
    }
   ],
   "source": [
    "x_0 = np.zeros(A.shape[0])\n",
    "x_zeidel_2 = Zeidel(A, b, x_0, it_num=10)\n",
    "abs_err_2 = np.max(np.abs(x_zeidel_2 - x_gauss))\n",
    "abs_err_2"
   ]
  },
  {
   "cell_type": "code",
   "execution_count": 14,
   "metadata": {},
   "outputs": [
    {
     "name": "stdout",
     "output_type": "stream",
     "text": [
      "Max it num achieved\n"
     ]
    },
    {
     "data": {
      "text/plain": [
       "6.1539006201982716e-06"
      ]
     },
     "execution_count": 14,
     "metadata": {},
     "output_type": "execute_result"
    }
   ],
   "source": [
    "x_0 = -x_gauss\n",
    "x_zeidel_3 = Zeidel(A, b, x_0, it_num=10)\n",
    "abs_err_3 = np.max(np.abs(x_zeidel_3 - x_gauss))\n",
    "abs_err_3"
   ]
  },
  {
   "cell_type": "markdown",
   "metadata": {},
   "source": [
    "### Можно заметить, что во всех трёх случаях достигнута точность $10^{-5}$"
   ]
  },
  {
   "cell_type": "markdown",
   "metadata": {},
   "source": [
    "## Задача 4.2.\n",
    "### Для системы уравнений Ax=b из задачи 4.1 найти решение по методу Зейделя с точностью ε=$10^-6$ , взяв любое начальное приближение. Предусмотреть подсчет количества итераций, потребовавшихся для достижения точности ε. "
   ]
  },
  {
   "cell_type": "code",
   "execution_count": 15,
   "metadata": {},
   "outputs": [
    {
     "name": "stdout",
     "output_type": "stream",
     "text": [
      "For initial approximation =  [1. 1. 1. 1. 1. 1.]\n",
      "Target accuracy achieved in  12  steps\n",
      "For initial approximation =  [0. 0. 0. 0. 0. 0.]\n",
      "Target accuracy achieved in  12  steps\n",
      "For initial approximation =  [-0.13131313 -1.1         1.3        -2.21212121 -1.1         1.3       ]\n",
      "Target accuracy achieved in  13  steps\n"
     ]
    }
   ],
   "source": [
    "x_0 = np.ones(A.shape[0])\n",
    "print(\"For initial approximation = \", x_0)\n",
    "x_zeidel_1_2 = Zeidel(A, b, x_0)\n",
    "x_0 = np.zeros(A.shape[0])\n",
    "print(\"For initial approximation = \", x_0)\n",
    "x_zeidel_2_2 = Zeidel(A, b, x_0)\n",
    "x_0 = -x_gauss\n",
    "print(\"For initial approximation = \", x_0)\n",
    "x_zeidel_3_2 = Zeidel(A, b, x_0)"
   ]
  },
  {
   "cell_type": "markdown",
   "metadata": {},
   "source": [
    "## Задание 4.4.7\n",
    "### Дана система уравнений x=Bx+c, где B=B(t), t =− −1, −0.8,...,0.8,1 - параметр. Построить график (или гистограмму) зависимости нормы || B ||$_\\infty$  от параметра t. По графику определить, при каких перечисленных выше значениях t выполнено достаточное условие сходимости итерационных методов. Найти решение системы x=Bx+c с точностью ε = $10^{-5}$ для наибольшего значения параметра t, при котором выполнено условие сходимости.\n",
    "### Матрица B(t):\n",
    "\\begin{bmatrix}\n",
    "    2t & 0.12 & 0.5 & -0.1\\\\\n",
    "    -0.1 & -0.15 & -0.01 & -0.4\\\\\n",
    "     0.15 & 0 & 0.3 & 0.2\\\\\n",
    "    0 & -0.1 & 0.25 & 0.1\\\\\n",
    "\\end{bmatrix}\n",
    "### Вектор c :\n",
    "\\begin{bmatrix}\n",
    "   3\\\\\n",
    "   2\\\\\n",
    "   1\\\\\n",
    "   0\\\\\n",
    "\\end{bmatrix}"
   ]
  },
  {
   "cell_type": "code",
   "execution_count": 163,
   "metadata": {},
   "outputs": [],
   "source": [
    "B = np.array([[0,0.12,0.5,-0.1],[-0.1, -0.15, -0.01, -0.4],[0.15, 0, 0.3, 0.2],[0, -0.1, 0.25, 0.1]])\n",
    "c = np.array([3,2,1,0])\n",
    "param_t = np.arange(-1,1.2,0.2)\n",
    "B_norm_arr = []\n",
    "for t in param_t:\n",
    "    B[0][0] = 2*t\n",
    "    B_norm_arr.append(np.linalg.norm(B,ord= np.inf))"
   ]
  },
  {
   "cell_type": "code",
   "execution_count": 168,
   "metadata": {},
   "outputs": [
    {
     "data": {
      "image/png": "[encoded data removed]",
      "text/plain": [
       "<Figure size 432x288 with 1 Axes>"
      ]
     },
     "metadata": {
      "needs_background": "light"
     },
     "output_type": "display_data"
    }
   ],
   "source": [
    "%matplotlib inline\n",
    "import matplotlib.pyplot as plt\n",
    "plt.scatter(param_t,B_norm_arr)\n",
    "plt.title(\"зависимости нормы ||B||∞  от параметра t.\")\n",
    "plt.xlabel(\"t\")\n",
    "plt.ylabel(\"||B||∞\");"
   ]
  },
  {
   "cell_type": "markdown",
   "metadata": {},
   "source": [
    "### Получилось, что достаточное условие сходимости итерационных методов выполнено только при t = 0. Найдём решение системы."
   ]
  },
  {
   "cell_type": "code",
   "execution_count": 161,
   "metadata": {},
   "outputs": [
    {
     "name": "stdout",
     "output_type": "stream",
     "text": [
      "Target accuracy achieved in  21  steps\n"
     ]
    }
   ],
   "source": [
    "x_0 = np.zeros(c.shape)\n",
    "B[0][0] = 0\n",
    "answer = Yacobi(x_0,B,c, B_norm = B_norm_arr[5], eps = 1e-5)"
   ]
  },
  {
   "cell_type": "markdown",
   "metadata": {},
   "source": [
    "### Проверим точность полученного решения, посчитав норму x - Bx - c"
   ]
  },
  {
   "cell_type": "code",
   "execution_count": 162,
   "metadata": {},
   "outputs": [
    {
     "name": "stdout",
     "output_type": "stream",
     "text": [
      "1.5919048610424369e-06\n"
     ]
    }
   ],
   "source": [
    "print(np.linalg.norm(answer - np.dot(B,answer) - c, ord = np.inf))"
   ]
  },
  {
   "cell_type": "markdown",
   "metadata": {},
   "source": [
    "### Полученная норма <$10^{-5}$, как мы и хотели"
   ]
  },
  {
   "cell_type": "markdown",
   "metadata": {},
   "source": [
    "## Задача 4.8.3*\n",
    "### Дана система уравнений Ax=b, где A – симметричная положительно определенная матрица размерности n х n. Найти решение системы с помощью явного и неявного нестационарных методов с чебышевским набором параметров с точностью ε=$10^{-6}$. Сравнить скорость сходимости методов."
   ]
  },
  {
   "cell_type": "code",
   "execution_count": 20,
   "metadata": {},
   "outputs": [],
   "source": [
    "n = 40\n",
    "m = 1\n",
    "t_m = m + n\n",
    "q_m = 1.05 + (-1)**m*m*10**(-2)\n",
    "q = np.array([q_m**(i+1) for i in range(n)])\n",
    "tau = np.sum([q_m**(2*i+2) for i in range(n)])\n",
    "b = np.array([tau + 3*q[i] for i in range(n)])\n",
    "A = np.zeros([n,n])\n",
    "for i in range(n):\n",
    "    for j in range(n):\n",
    "        if i == j:\n",
    "            A[i][j] = 2 * q[i] * t_m**2\n",
    "        else:\n",
    "            A[i][j] = 2 * tau + (q[i] + q[j]) * t_m"
   ]
  },
  {
   "cell_type": "code",
   "execution_count": 127,
   "metadata": {},
   "outputs": [],
   "source": [
    "B = np.diag(np.diag(A))\n",
    "B_inv = np.diag(1/np.diag(B))"
   ]
  },
  {
   "cell_type": "markdown",
   "metadata": {},
   "source": [
    "### Зададим необходимые параметры для явного метода (для неявного они схожи, поэтому их поправки сделаны внутри функции)"
   ]
  },
  {
   "cell_type": "code",
   "execution_count": 111,
   "metadata": {},
   "outputs": [],
   "source": [
    "lambda_vec = np.linalg.eigvals(A)\n",
    "l_max,l_min = max(lambda_vec), min(lambda_vec)\n",
    "tau_0 = 2/(l_max + l_min)\n",
    "ksi = l_min/l_max\n",
    "p_0 = (1 - ksi)/(1+ksi)"
   ]
  },
  {
   "cell_type": "code",
   "execution_count": 143,
   "metadata": {},
   "outputs": [],
   "source": [
    "def explicit_method(x0, b, A, eps = 1e-6, l_max = l_max, l_min = l_min, tau_0 = tau_0, ksi = ksi, p_0 = p_0, max_it = 100):\n",
    "    counter = 1\n",
    "    t_k = np.array([np.cos((2*k + 1) * np.pi/2/max_it) for k in range(max_it)])\n",
    "    tau = np.array([tau_0 /(1 + p_0 * t_k[i]) for i in range(max_it)])\n",
    "    x_curr = x0\n",
    "    x_next = tau[0] * (b - np.dot(A,x_curr)) + x_curr\n",
    "    while np.linalg.norm(x_next - x_curr, ord = np.inf) > eps and counter != max_it:\n",
    "        x_curr = x_next\n",
    "        x_next = tau[counter] * (b - np.dot(A,x_curr)) + x_curr\n",
    "        counter += 1\n",
    "    if counter == max_it:\n",
    "        print(\"Max it num achieved\")\n",
    "    else: print(\"Target accuracy achieved in \", counter, \" steps\")\n",
    "    return x_next\n",
    "\n",
    "def implicit_method(x_0, b, A, B_inv, eps = 1e-6, max_it = 100):\n",
    "    lambda_vec = np.linalg.eigvals(np.dot(B_inv,A))\n",
    "    l_max,l_min = max(lambda_vec), min(lambda_vec)\n",
    "    tau_0 = 2/(l_max + l_min)\n",
    "    ksi = l_min/l_max\n",
    "    p_0 = (1 - ksi)/(1+ksi)\n",
    "    counter = 0\n",
    "    t_k = np.array([np.cos((2*k + 1) * np.pi/2/max_it) for k in range(max_it)])\n",
    "    tau = np.array([tau_0 /(1 + p_0 * t_k[i]) for i in range(max_it)])\n",
    "    x_curr = x0\n",
    "    x_next = np.dot(B_inv,tau[counter]*(b - np.dot(A,x_curr))) + x_curr\n",
    "    counter += 1\n",
    "    while np.linalg.norm(x_next - x_curr, ord = np.inf) > eps and counter != max_it:\n",
    "        x_curr = x_next\n",
    "        x_next = np.dot(B_inv,tau[counter]*(b - np.dot(A,x_curr))) + x_curr\n",
    "        counter += 1\n",
    "    if counter == max_it:\n",
    "        print(\"Max it num achieved\")\n",
    "    else: print(\"Target accuracy achieved in \", counter, \" steps\")\n",
    "    return x_next\n"
   ]
  },
  {
   "cell_type": "markdown",
   "metadata": {},
   "source": [
    "### Найдём решения с помощью явного и неявного нестационарных методов с чебышевским набором параметров и посмотрим, за сколько итераций они сходятся"
   ]
  },
  {
   "cell_type": "code",
   "execution_count": 155,
   "metadata": {},
   "outputs": [
    {
     "name": "stdout",
     "output_type": "stream",
     "text": [
      "Target accuracy achieved in  75  steps\n",
      "Target accuracy achieved in  57  steps\n"
     ]
    }
   ],
   "source": [
    "x0 = np.ones(b.shape)\n",
    "sol_cheb_explicit = explicit_method(x0, b, A)\n",
    "sol_cheb_implicit = implicit_method(x0, b, A, B_inv)"
   ]
  },
  {
   "cell_type": "code",
   "execution_count": 169,
   "metadata": {},
   "outputs": [
    {
     "name": "stdout",
     "output_type": "stream",
     "text": [
      "Target accuracy achieved in  67  steps\n",
      "Target accuracy achieved in  39  steps\n"
     ]
    }
   ],
   "source": [
    "x0 = np.zeros(b.shape)\n",
    "sol_cheb_explicit = explicit_method(x0, b, A)\n",
    "sol_cheb_implicit = implicit_method(x0, b, A, B_inv)"
   ]
  },
  {
   "cell_type": "code",
   "execution_count": 170,
   "metadata": {},
   "outputs": [
    {
     "name": "stdout",
     "output_type": "stream",
     "text": [
      "Max it num achieved\n",
      "Target accuracy achieved in  68  steps\n"
     ]
    }
   ],
   "source": [
    "x0 = 100 * np.ones(b.shape)\n",
    "sol_cheb_explicit = explicit_method(x0, b, A)\n",
    "sol_cheb_implicit = implicit_method(x0, b, A, B_inv)"
   ]
  },
  {
   "cell_type": "markdown",
   "metadata": {},
   "source": [
    "### Проверил для 3х начальных приближений. В каждом из случаев неявный метод сходится быстрее. Более того, в одном из случаев явный метод не сошёлся за 100 итераций, в то время как неявный сошёлся за 68. Вывод: неявный метод сходится быстрее)"
   ]
  }
 ],
 "metadata": {
  "kernelspec": {
   "display_name": "Python 3",
   "language": "python",
   "name": "python3"
  },
  "language_info": {
   "codemirror_mode": {
    "name": "ipython",
    "version": 3
   },
   "file_extension": ".py",
   "mimetype": "text/x-python",
   "name": "python",
   "nbconvert_exporter": "python",
   "pygments_lexer": "ipython3",
   "version": "3.7.1"
  }
 },
 "nbformat": 4,
 "nbformat_minor": 2
}
